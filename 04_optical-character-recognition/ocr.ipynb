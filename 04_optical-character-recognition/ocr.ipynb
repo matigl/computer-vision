{
  "nbformat": 4,
  "nbformat_minor": 0,
  "metadata": {
    "colab": {
      "name": "Untitled0.ipynb",
      "provenance": [],
      "include_colab_link": true
    },
    "kernelspec": {
      "name": "python3",
      "display_name": "Python 3"
    }
  },
  "cells": [
    {
      "cell_type": "markdown",
      "metadata": {
        "id": "view-in-github",
        "colab_type": "text"
      },
      "source": [
        "<a href=\"https://colab.research.google.com/github/krakowiakpawel9/computer-vision-course/blob/master/04_optical-character-recognition/ocr.ipynb\" target=\"_parent\"><img src=\"https://colab.research.google.com/assets/colab-badge.svg\" alt=\"Open In Colab\"/></a>"
      ]
    },
    {
      "cell_type": "markdown",
      "metadata": {
        "id": "epQ2bcESgRFB",
        "colab_type": "text"
      },
      "source": [
        "### Pytesseract "
      ]
    },
    {
      "cell_type": "code",
      "metadata": {
        "id": "N5o7ew-VaWmu",
        "colab_type": "code",
        "colab": {}
      },
      "source": [
        "!sudo apt install tesseract-ocr\n",
        "!pip install pytesseract"
      ],
      "execution_count": 0,
      "outputs": []
    },
    {
      "cell_type": "code",
      "metadata": {
        "id": "EleNuzHrgQJv",
        "colab_type": "code",
        "colab": {}
      },
      "source": [
        "import pytesseract\n",
        "from PIL import Image\n",
        "import imutils\n",
        "import cv2\n",
        "from google.colab import files\n",
        "\n",
        "uploaded = files.upload()"
      ],
      "execution_count": 0,
      "outputs": []
    },
    {
      "cell_type": "code",
      "metadata": {
        "id": "xNB8Zpv7Z4A4",
        "colab_type": "code",
        "colab": {}
      },
      "source": [
        "text = pytesseract.image_to_string(Image.open('cap_1.jfif'))\n",
        "print(text)"
      ],
      "execution_count": 0,
      "outputs": []
    }
  ]
}